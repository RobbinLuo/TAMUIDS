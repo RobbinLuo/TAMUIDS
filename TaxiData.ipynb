{
 "cells": [
  {
   "cell_type": "code",
   "execution_count": 1,
   "metadata": {
    "collapsed": true
   },
   "outputs": [],
   "source": [
    "import pandas as pd"
   ]
  },
  {
   "cell_type": "code",
   "execution_count": 36,
   "metadata": {},
   "outputs": [
    {
     "data": {
      "text/plain": [
       "(10000, 24)"
      ]
     },
     "execution_count": 36,
     "metadata": {},
     "output_type": "execute_result"
    }
   ],
   "source": [
    "df = pd.read_csv(\"./raw_data/Chicago_taxi_trips2016.csv\", iterator=True, chunksize=1000)\n",
    "tripdata = df.get_chunk(10000)\n",
    "tripdata.shape"
   ]
  },
  {
   "cell_type": "code",
   "execution_count": 37,
   "metadata": {
    "scrolled": true
   },
   "outputs": [
    {
     "data": {
      "text/html": [
       "<div>\n",
       "<style>\n",
       "    .dataframe thead tr:only-child th {\n",
       "        text-align: right;\n",
       "    }\n",
       "\n",
       "    .dataframe thead th {\n",
       "        text-align: left;\n",
       "    }\n",
       "\n",
       "    .dataframe tbody tr th {\n",
       "        vertical-align: top;\n",
       "    }\n",
       "</style>\n",
       "<table border=\"1\" class=\"dataframe\">\n",
       "  <thead>\n",
       "    <tr style=\"text-align: right;\">\n",
       "      <th></th>\n",
       "      <th>Trip ID</th>\n",
       "      <th>Taxi ID</th>\n",
       "      <th>Trip Start Timestamp</th>\n",
       "      <th>Trip End Timestamp</th>\n",
       "      <th>Trip Seconds</th>\n",
       "      <th>Trip Miles</th>\n",
       "      <th>Pickup Census Tract</th>\n",
       "      <th>Dropoff Census Tract</th>\n",
       "      <th>Pickup Community Area</th>\n",
       "      <th>Pickup O'Hare Community Area</th>\n",
       "      <th>...</th>\n",
       "      <th>Extras</th>\n",
       "      <th>Trip Total</th>\n",
       "      <th>Payment Type</th>\n",
       "      <th>Company</th>\n",
       "      <th>Pickup Centroid Latitude</th>\n",
       "      <th>Pickup Centroid Longitude</th>\n",
       "      <th>Pickup Centroid Location</th>\n",
       "      <th>Dropoff Centroid Latitude</th>\n",
       "      <th>Dropoff Centroid Longitude</th>\n",
       "      <th>Dropoff Centroid  Location</th>\n",
       "    </tr>\n",
       "  </thead>\n",
       "  <tbody>\n",
       "    <tr>\n",
       "      <th>0</th>\n",
       "      <td>8c9820551cbab799890cdaea05dca9b43fe92bae</td>\n",
       "      <td>bfec2c659fcbed3b508dc6caaf6f7ef39e17801e8ca0cc...</td>\n",
       "      <td>04/25/2016 5:45:00 PM</td>\n",
       "      <td>04/25/2016 6:00:00 PM</td>\n",
       "      <td>780.0</td>\n",
       "      <td>5.3</td>\n",
       "      <td>NaN</td>\n",
       "      <td>NaN</td>\n",
       "      <td>8.0</td>\n",
       "      <td>0.0</td>\n",
       "      <td>...</td>\n",
       "      <td>$0.00</td>\n",
       "      <td>$16.00</td>\n",
       "      <td>Cash</td>\n",
       "      <td>Northwest Management LLC</td>\n",
       "      <td>41.899602</td>\n",
       "      <td>-87.633308</td>\n",
       "      <td>POINT (-87.6333080367 41.899602111)</td>\n",
       "      <td>41.965812</td>\n",
       "      <td>-87.655879</td>\n",
       "      <td>POINT (-87.6558787862 41.96581197)</td>\n",
       "    </tr>\n",
       "    <tr>\n",
       "      <th>1</th>\n",
       "      <td>8c98238622adf043b13480a42104acc3fe8d326e</td>\n",
       "      <td>f45c4bfa9d6c445eb03ab69093f7ec1e9cdecef83cb2ce...</td>\n",
       "      <td>11/16/2016 3:30:00 PM</td>\n",
       "      <td>11/16/2016 3:45:00 PM</td>\n",
       "      <td>420.0</td>\n",
       "      <td>1.8</td>\n",
       "      <td>1.703132e+10</td>\n",
       "      <td>1.703133e+10</td>\n",
       "      <td>32.0</td>\n",
       "      <td>0.0</td>\n",
       "      <td>...</td>\n",
       "      <td>$1.00</td>\n",
       "      <td>$9.75</td>\n",
       "      <td>Credit Card</td>\n",
       "      <td>Choice Taxi Association</td>\n",
       "      <td>41.877406</td>\n",
       "      <td>-87.621972</td>\n",
       "      <td>POINT (-87.6219716519 41.8774061234)</td>\n",
       "      <td>41.859350</td>\n",
       "      <td>-87.617358</td>\n",
       "      <td>POINT (-87.6173580061 41.859349715)</td>\n",
       "    </tr>\n",
       "    <tr>\n",
       "      <th>2</th>\n",
       "      <td>8c9824b8455b957c0725d196bf811e6c982a2c40</td>\n",
       "      <td>ecfb6f2cdce5d4c4e80218f58070ae719060ee47e648f4...</td>\n",
       "      <td>01/15/2016 5:15:00 PM</td>\n",
       "      <td>01/15/2016 5:45:00 PM</td>\n",
       "      <td>1140.0</td>\n",
       "      <td>4.2</td>\n",
       "      <td>NaN</td>\n",
       "      <td>NaN</td>\n",
       "      <td>32.0</td>\n",
       "      <td>0.0</td>\n",
       "      <td>...</td>\n",
       "      <td>$0.00</td>\n",
       "      <td>$14.75</td>\n",
       "      <td>Cash</td>\n",
       "      <td>Top Cab Affiliation</td>\n",
       "      <td>41.878866</td>\n",
       "      <td>-87.625192</td>\n",
       "      <td>POINT (-87.6251921424 41.8788655841)</td>\n",
       "      <td>41.944227</td>\n",
       "      <td>-87.655998</td>\n",
       "      <td>POINT (-87.6559981815 41.9442266014)</td>\n",
       "    </tr>\n",
       "    <tr>\n",
       "      <th>3</th>\n",
       "      <td>8c982642e78c0a2f93eae455649513d811e072b2</td>\n",
       "      <td>7d8179131ea9952793af4cda8635e94b56c2b92d3c376c...</td>\n",
       "      <td>01/20/2016 9:30:00 PM</td>\n",
       "      <td>01/20/2016 9:30:00 PM</td>\n",
       "      <td>420.0</td>\n",
       "      <td>1.4</td>\n",
       "      <td>1.703132e+10</td>\n",
       "      <td>1.703184e+10</td>\n",
       "      <td>32.0</td>\n",
       "      <td>0.0</td>\n",
       "      <td>...</td>\n",
       "      <td>$0.00</td>\n",
       "      <td>$7.25</td>\n",
       "      <td>Cash</td>\n",
       "      <td>Taxi Affiliation Services</td>\n",
       "      <td>41.884987</td>\n",
       "      <td>-87.620993</td>\n",
       "      <td>POINT (-87.6209929134 41.8849871918)</td>\n",
       "      <td>41.880994</td>\n",
       "      <td>-87.632746</td>\n",
       "      <td>POINT (-87.6327464887 41.8809944707)</td>\n",
       "    </tr>\n",
       "    <tr>\n",
       "      <th>4</th>\n",
       "      <td>8c9828d092bf36f439b5d88f00065c83da0fd059</td>\n",
       "      <td>d5c4fbae1c0c510364404a90fd477b19f7f03408ce40ff...</td>\n",
       "      <td>02/11/2016 8:45:00 AM</td>\n",
       "      <td>02/11/2016 9:15:00 AM</td>\n",
       "      <td>1380.0</td>\n",
       "      <td>0.2</td>\n",
       "      <td>NaN</td>\n",
       "      <td>NaN</td>\n",
       "      <td>35.0</td>\n",
       "      <td>0.0</td>\n",
       "      <td>...</td>\n",
       "      <td>$0.00</td>\n",
       "      <td>$18.75</td>\n",
       "      <td>Credit Card</td>\n",
       "      <td>Taxi Affiliation Services</td>\n",
       "      <td>41.835118</td>\n",
       "      <td>-87.618678</td>\n",
       "      <td>POINT (-87.6186777673 41.8351179863)</td>\n",
       "      <td>41.878866</td>\n",
       "      <td>-87.625192</td>\n",
       "      <td>POINT (-87.6251921424 41.8788655841)</td>\n",
       "    </tr>\n",
       "  </tbody>\n",
       "</table>\n",
       "<p>5 rows × 24 columns</p>\n",
       "</div>"
      ],
      "text/plain": [
       "                                    Trip ID  \\\n",
       "0  8c9820551cbab799890cdaea05dca9b43fe92bae   \n",
       "1  8c98238622adf043b13480a42104acc3fe8d326e   \n",
       "2  8c9824b8455b957c0725d196bf811e6c982a2c40   \n",
       "3  8c982642e78c0a2f93eae455649513d811e072b2   \n",
       "4  8c9828d092bf36f439b5d88f00065c83da0fd059   \n",
       "\n",
       "                                             Taxi ID   Trip Start Timestamp  \\\n",
       "0  bfec2c659fcbed3b508dc6caaf6f7ef39e17801e8ca0cc...  04/25/2016 5:45:00 PM   \n",
       "1  f45c4bfa9d6c445eb03ab69093f7ec1e9cdecef83cb2ce...  11/16/2016 3:30:00 PM   \n",
       "2  ecfb6f2cdce5d4c4e80218f58070ae719060ee47e648f4...  01/15/2016 5:15:00 PM   \n",
       "3  7d8179131ea9952793af4cda8635e94b56c2b92d3c376c...  01/20/2016 9:30:00 PM   \n",
       "4  d5c4fbae1c0c510364404a90fd477b19f7f03408ce40ff...  02/11/2016 8:45:00 AM   \n",
       "\n",
       "      Trip End Timestamp  Trip Seconds  Trip Miles  Pickup Census Tract  \\\n",
       "0  04/25/2016 6:00:00 PM         780.0         5.3                  NaN   \n",
       "1  11/16/2016 3:45:00 PM         420.0         1.8         1.703132e+10   \n",
       "2  01/15/2016 5:45:00 PM        1140.0         4.2                  NaN   \n",
       "3  01/20/2016 9:30:00 PM         420.0         1.4         1.703132e+10   \n",
       "4  02/11/2016 9:15:00 AM        1380.0         0.2                  NaN   \n",
       "\n",
       "   Dropoff Census Tract  Pickup Community Area  Pickup O'Hare Community Area  \\\n",
       "0                   NaN                    8.0                           0.0   \n",
       "1          1.703133e+10                   32.0                           0.0   \n",
       "2                   NaN                   32.0                           0.0   \n",
       "3          1.703184e+10                   32.0                           0.0   \n",
       "4                   NaN                   35.0                           0.0   \n",
       "\n",
       "                   ...                   Extras Trip Total Payment Type  \\\n",
       "0                  ...                    $0.00     $16.00         Cash   \n",
       "1                  ...                    $1.00      $9.75  Credit Card   \n",
       "2                  ...                    $0.00     $14.75         Cash   \n",
       "3                  ...                    $0.00      $7.25         Cash   \n",
       "4                  ...                    $0.00     $18.75  Credit Card   \n",
       "\n",
       "                     Company Pickup Centroid Latitude  \\\n",
       "0   Northwest Management LLC                41.899602   \n",
       "1    Choice Taxi Association                41.877406   \n",
       "2        Top Cab Affiliation                41.878866   \n",
       "3  Taxi Affiliation Services                41.884987   \n",
       "4  Taxi Affiliation Services                41.835118   \n",
       "\n",
       "  Pickup Centroid Longitude              Pickup Centroid Location  \\\n",
       "0                -87.633308   POINT (-87.6333080367 41.899602111)   \n",
       "1                -87.621972  POINT (-87.6219716519 41.8774061234)   \n",
       "2                -87.625192  POINT (-87.6251921424 41.8788655841)   \n",
       "3                -87.620993  POINT (-87.6209929134 41.8849871918)   \n",
       "4                -87.618678  POINT (-87.6186777673 41.8351179863)   \n",
       "\n",
       "  Dropoff Centroid Latitude  Dropoff Centroid Longitude  \\\n",
       "0                 41.965812                  -87.655879   \n",
       "1                 41.859350                  -87.617358   \n",
       "2                 41.944227                  -87.655998   \n",
       "3                 41.880994                  -87.632746   \n",
       "4                 41.878866                  -87.625192   \n",
       "\n",
       "             Dropoff Centroid  Location  \n",
       "0    POINT (-87.6558787862 41.96581197)  \n",
       "1   POINT (-87.6173580061 41.859349715)  \n",
       "2  POINT (-87.6559981815 41.9442266014)  \n",
       "3  POINT (-87.6327464887 41.8809944707)  \n",
       "4  POINT (-87.6251921424 41.8788655841)  \n",
       "\n",
       "[5 rows x 24 columns]"
      ]
     },
     "execution_count": 37,
     "metadata": {},
     "output_type": "execute_result"
    }
   ],
   "source": [
    "tripdata.head()"
   ]
  },
  {
   "cell_type": "code",
   "execution_count": 38,
   "metadata": {
    "collapsed": true
   },
   "outputs": [],
   "source": [
    "td_cl = tripdata.dropna(axis=0, subset=['Pickup Centroid Latitude','Pickup Centroid Longitude', \\\n",
    "                                        'Dropoff Centroid Latitude', 'Dropoff Centroid Longitude'])"
   ]
  },
  {
   "cell_type": "code",
   "execution_count": 39,
   "metadata": {},
   "outputs": [
    {
     "data": {
      "text/plain": [
       "(9687, 24)"
      ]
     },
     "execution_count": 39,
     "metadata": {},
     "output_type": "execute_result"
    }
   ],
   "source": [
    "td_cl.shape"
   ]
  },
  {
   "cell_type": "code",
   "execution_count": 53,
   "metadata": {},
   "outputs": [
    {
     "data": {
      "text/plain": [
       "'04/25/2016 5:45:00 PM'"
      ]
     },
     "execution_count": 53,
     "metadata": {},
     "output_type": "execute_result"
    }
   ],
   "source": [
    "td_cl.iloc[0,2]"
   ]
  },
  {
   "cell_type": "code",
   "execution_count": null,
   "metadata": {
    "collapsed": true
   },
   "outputs": [],
   "source": [
    "def"
   ]
  }
 ],
 "metadata": {
  "kernelspec": {
   "display_name": "Python 3",
   "language": "python",
   "name": "python3"
  },
  "language_info": {
   "codemirror_mode": {
    "name": "ipython",
    "version": 3
   },
   "file_extension": ".py",
   "mimetype": "text/x-python",
   "name": "python",
   "nbconvert_exporter": "python",
   "pygments_lexer": "ipython3",
   "version": "3.6.1"
  }
 },
 "nbformat": 4,
 "nbformat_minor": 2
}
